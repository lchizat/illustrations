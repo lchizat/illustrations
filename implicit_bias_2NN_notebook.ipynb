{
 "cells": [
  {
   "cell_type": "markdown",
   "metadata": {},
   "source": [
    "To run the following code, you need Julia (1.0 or higher) and the packages PyPlot and ProgressMeter (the other being already included). The basic code is in the file functions.jl."
   ]
  },
  {
   "cell_type": "code",
   "execution_count": null,
   "metadata": {},
   "outputs": [],
   "source": [
    "using PyPlot, ProgressMeter\n",
    "using LinearAlgebra, Random, Statistics\n",
    "include(\"implicit_bias_2NN_utils.jl\");"
   ]
  },
  {
   "cell_type": "markdown",
   "metadata": {},
   "source": [
    "See the paper for details on the setting. In all experiments below, the letters stand for the following:\n",
    "- $d\\geq 2$ is the input data dimension\n",
    "- $k$ is the number of cluster per dimensions (over $2$ dimensions)\n",
    "- $n$ is the number of training samples\n",
    "- $m$ is the number of neurons\n"
   ]
  },
  {
   "cell_type": "markdown",
   "metadata": {},
   "source": [
    "# Illustration: setting and comparison of classifiers"
   ]
  },
  {
   "cell_type": "markdown",
   "metadata": {},
   "source": [
    "First, we plot a sample of training set and compare what the classifier we obtain by training both layers or a single layer of the neural network."
   ]
  },
  {
   "cell_type": "code",
   "execution_count": null,
   "metadata": {},
   "outputs": [],
   "source": [
    "Random.seed!(1)\n",
    "k = 4\n",
    "n = 100\n",
    "m = 500"
   ]
  },
  {
   "cell_type": "code",
   "execution_count": null,
   "metadata": {},
   "outputs": [],
   "source": [
    "illustration(k, n, m; niter=300000, name=\"classifier\") # 10 minutes with 300000 iterations"
   ]
  },
  {
   "cell_type": "markdown",
   "metadata": {},
   "source": [
    "# Experiment 1: performance vs n"
   ]
  },
  {
   "cell_type": "markdown",
   "metadata": {},
   "source": [
    "We look at the evolution of the performance when the number of samples increases."
   ]
  },
  {
   "cell_type": "code",
   "execution_count": null,
   "metadata": {},
   "outputs": [],
   "source": [
    "Random.seed!(1)\n",
    "n_distrib = 1 # number of repetition of the experiment\n",
    "ds = [15]\n",
    "ns = [32, 64 , 128, 256, 512]\n",
    "n_repeat = 1\n",
    "ms = [1000];"
   ]
  },
  {
   "cell_type": "code",
   "execution_count": null,
   "metadata": {},
   "outputs": [],
   "source": [
    "# 20 minutes for 1 distrib/repeat and 50000 iterations\n",
    "@time L1s, L2s, m1s, m2s = experiment_2NN(n_distrib, ds, ns, n_repeat, ms, niter=50000, stepsize=0.5);"
   ]
  },
  {
   "cell_type": "code",
   "execution_count": null,
   "metadata": {},
   "outputs": [],
   "source": [
    "figure(figsize=[4,3])\n",
    "plot(ns,L1s[:,1,:,1,1]',\"C0--\",alpha=0.2)\n",
    "plot(ns,L2s[:,1,:,1,1]',\"C1--\",alpha=0.2)\n",
    "plot(ns,mean(L1s[:,1,:,1,1],dims=1)[:],\"C0\", linewidth=4,label=\"both layers\")\n",
    "plot(ns,mean(L2s[:,1,:,1,1],dims=1)[:],\"C1\", linewidth=4,label=\"output layer\")\n",
    "xlabel(L\"n\", fontsize=15)\n",
    "ylabel(\"Test error\", fontsize=15)\n",
    "legend();\n",
    "#savefig(\"test_vs_n_k3_5.pdf\",bbox_inches=\"tight\")\n",
    "#ax.set_yticklabels([\"{:,}\".format(int(x)) for x in ax.get_yticks().tolist()])"
   ]
  },
  {
   "cell_type": "markdown",
   "metadata": {},
   "source": [
    "# Experiment 2: performance vs d"
   ]
  },
  {
   "cell_type": "markdown",
   "metadata": {},
   "source": [
    "We look at the evolution of the performance when the dimension increases."
   ]
  },
  {
   "cell_type": "code",
   "execution_count": null,
   "metadata": {},
   "outputs": [],
   "source": [
    "Random.seed!(1)\n",
    "n_distrib = 1\n",
    "ds = [5, 10, 15, 20, 25]\n",
    "ns = [256]\n",
    "n_repeat = 1\n",
    "ms = [1000];\n",
    "n_repeat = 1;"
   ]
  },
  {
   "cell_type": "code",
   "execution_count": null,
   "metadata": {},
   "outputs": [],
   "source": [
    "# 20 minutes for 1 distrib/repeat and 50000 iterations\n",
    "@time L1s, L2s, m1s, m2s = experiment_2NN(n_distrib, ds, ns, n_repeat, ms, niter=50000, stepsize=0.5);"
   ]
  },
  {
   "cell_type": "code",
   "execution_count": null,
   "metadata": {},
   "outputs": [],
   "source": [
    "figure(figsize=[4,3])\n",
    "plot(ds,L1s[:,:,1,1,1]',\"C0--\",alpha=0.2)\n",
    "plot(ds,L2s[:,:,1,1,1]',\"C1--\",alpha=0.2)\n",
    "plot(ds,mean(L1s[:,:,1,1,1], dims=1)[:],\"C0\", linewidth=4,label=\"both layers\")\n",
    "plot(ds,mean(L2s[:,:,1,1,1], dims=1)[:],\"C1\", linewidth=4,label=\"output layer\")\n",
    "xlabel(L\"d\",fontsize=15)\n",
    "ylabel(\"Test error\",fontsize=15)\n",
    "legend();\n",
    "#savefig(\"test_vs_dim.pdf\",bbox_inches=\"tight\")\n",
    "#ax.set_yticklabels([\"{:,}\".format(int(x)) for x in ax.get_yticks().tolist()])"
   ]
  },
  {
   "cell_type": "markdown",
   "metadata": {},
   "source": [
    "# Experiment 3: varying nb of neurons"
   ]
  },
  {
   "cell_type": "markdown",
   "metadata": {},
   "source": [
    "We look at the evolution of the margin when the number of neurons increases. Our main theorem proves that it converges to the $\\mathcal{F}_1$-max-margin when $m\\to \\infty$."
   ]
  },
  {
   "cell_type": "code",
   "execution_count": null,
   "metadata": {},
   "outputs": [],
   "source": [
    "Random.seed!(1)\n",
    "n_distrib = 1\n",
    "ds = [15]\n",
    "ns = [256]\n",
    "n_repeat = 1 # nb of repetition of the experiment (randomness of initialization)\n",
    "ms = [8,16,32,64,128,256,512, 1024];"
   ]
  },
  {
   "cell_type": "code",
   "execution_count": null,
   "metadata": {},
   "outputs": [],
   "source": [
    "# 12 minutes for 1 distrib/repeat and 50000 iterations\n",
    "@time L1s, L2s, m1s, m2s = experiment_2NN(n_distrib, ds, ns, n_repeat, ms, niter=50000, stepsize=0.5);"
   ]
  },
  {
   "cell_type": "code",
   "execution_count": null,
   "metadata": {},
   "outputs": [],
   "source": [
    "figure(figsize=[4,3])\n",
    "semilogx(ms,m1s[1,1,1,:,:]',\"+r\");\n",
    "semilogx(ms,sum(m1s[1,1,1,:,:],dims=1)[:]/n_repeat,linewidth=4,\"k\");\n",
    "#axis([5,1500,-0.0025,0.012])\n",
    "#xlabel(L\"m\",fontsize=15)\n",
    "#yticks([0,0.01])\n",
    "ylabel(L\"$\\mathcal{F}_1$ margin\",fontsize=15);\n",
    "#savefig(\"margin_vs_m.pdf\",bbox_inches=\"tight\")"
   ]
  }
 ],
 "metadata": {
  "kernelspec": {
   "display_name": "Julia 1.1.0",
   "language": "julia",
   "name": "julia-1.1"
  },
  "language_info": {
   "file_extension": ".jl",
   "mimetype": "application/julia",
   "name": "julia",
   "version": "1.1.0"
  }
 },
 "nbformat": 4,
 "nbformat_minor": 2
}
